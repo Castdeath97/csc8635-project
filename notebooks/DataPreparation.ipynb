{
 "cells": [
  {
   "cell_type": "markdown",
   "metadata": {
    "toc": true
   },
   "source": [
    "<h1>Table of Contents<span class=\"tocSkip\"></span></h1>\n",
    "<div class=\"toc\"><ul class=\"toc-item\"><li><span><a href=\"#Introduction\" data-toc-modified-id=\"Introduction-1\"><span class=\"toc-item-num\">1&nbsp;&nbsp;</span>Introduction</a></span></li><li><span><a href=\"#Data-Background\" data-toc-modified-id=\"Data-Background-2\"><span class=\"toc-item-num\">2&nbsp;&nbsp;</span>Data Background</a></span></li><li><span><a href=\"#Dataset-Description\" data-toc-modified-id=\"Dataset-Description-3\"><span class=\"toc-item-num\">3&nbsp;&nbsp;</span>Dataset Description</a></span></li><li><span><a href=\"#Summary\" data-toc-modified-id=\"Summary-4\"><span class=\"toc-item-num\">4&nbsp;&nbsp;</span>Summary</a></span></li></ul></div>"
   ]
  },
  {
   "attachments": {},
   "cell_type": "markdown",
   "metadata": {},
   "source": [
    "<h1 class=\"tocSkip\"><center class=\"tocSkip\">Data Preparation Report</center></h1>\n",
    "<h1 class=\"tocSkip\"><center class=\"tocSkip\"><i class=\"tocSkip\">Ammar Hasan 150454388</i></center></h1>\n",
    "\n",
    "## Introduction \n",
    "\n",
    "This report summaries the Data Preparation stage of the CRISP-DM cycle for this project. In particular, this\n",
    "report covers the background of the data and how it was modified for further analysis (selection, cleaning,\n",
    "transforms, etc.).\n",
    "\n",
    "## Data Background\n",
    "\n",
    "As stated in the Business Understanding Stage report the data is provided from a kaggle competition in a dataset called the HAM10000. The dataset consists of a set of dermatoscopic images collected from various populations. The final dataset consists of 10015 images. Ground truths are provided by various confirmation techniques (follow-up examination, expert consensus or in-vivo confocal microscopy). \n",
    "\n",
    "The data consists of the following csv files as alluded to in the business understanding report as well:\n",
    "* Images of skin lesions divided into two files:\n",
    "    - HAM1000_images_part_1\n",
    "    - HAM1000_image_part_2\n",
    "* HAM10000_metadata.csv: stores textual information about the image (ground truth, patient information, etc.) .\n",
    "* 8*8 and 28*28 Luminance and RGB values for the skin lesion images:\n",
    "    - hmnist_8_8_L.csv\n",
    "    - hmnist_8_8_RGB.csv\n",
    "    - hmnist_28_28_L.csv\n",
    "    - hmnist_28_28_RGB.csv\n",
    "\n",
    "\n",
    "## Dataset Description \n",
    "\n",
    "### Fields\n",
    "\n",
    "* lesion_id\n",
    "* image_id\t\n",
    "* dx\n",
    "* dx_type\n",
    "* age\t\n",
    "* sex\t\n",
    "* localization\t\n",
    "* image_path\n",
    "* pixelXXXX_l_8_8\n",
    "* pixelXXXX_l_28_28\n",
    "* pixelXXXX_rgb_8_8\n",
    "* pixelXXXX_rgb_28_28\n",
    "\n",
    "### Table Preprocessing \n",
    "\n",
    "#### Metadata Cleaning \n",
    "\n",
    "#### Metadata Image Paths Additon\n",
    "\n",
    "#### Luminance and RGB Values Cleaning \n",
    "\n",
    "#### Luminance and RGB Values Merge with Metadata\n",
    "\n",
    "## Summary"
   ]
  }
 ],
 "metadata": {
  "kernelspec": {
   "display_name": "Python 3",
   "language": "python",
   "name": "python3"
  },
  "language_info": {
   "codemirror_mode": {
    "name": "ipython",
    "version": 3
   },
   "file_extension": ".py",
   "mimetype": "text/x-python",
   "name": "python",
   "nbconvert_exporter": "python",
   "pygments_lexer": "ipython3",
   "version": "3.7.0"
  },
  "latex_envs": {
   "LaTeX_envs_menu_present": true,
   "autoclose": false,
   "autocomplete": true,
   "bibliofile": "biblio.bib",
   "cite_by": "apalike",
   "current_citInitial": 1,
   "eqLabelWithNumbers": true,
   "eqNumInitial": 1,
   "hotkeys": {
    "equation": "Ctrl-E",
    "itemize": "Ctrl-I"
   },
   "labels_anchors": false,
   "latex_user_defs": false,
   "report_style_numbering": false,
   "user_envs_cfg": false
  },
  "toc": {
   "base_numbering": 1,
   "nav_menu": {},
   "number_sections": true,
   "sideBar": true,
   "skip_h1_title": true,
   "title_cell": "Table of Contents",
   "title_sidebar": "Contents",
   "toc_cell": true,
   "toc_position": {
    "height": "calc(100% - 180px)",
    "left": "10px",
    "top": "150px",
    "width": "165px"
   },
   "toc_section_display": true,
   "toc_window_display": true
  }
 },
 "nbformat": 4,
 "nbformat_minor": 2
}
