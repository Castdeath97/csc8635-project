{
 "cells": [
  {
   "cell_type": "markdown",
   "metadata": {},
   "source": [
    "# Business Understanding Report \n",
    "### Ammar Hasan 150454388\n",
    "\n",
    "## Introduction \n",
    "\n",
    "This report summaries the Data Preparation stage of the CRISP-DM cycle for this project. In particular, this\n",
    "report covers the background of the data and how it was modified for further analysis (selection, cleaning,\n",
    "transforms, etc.).\n",
    "\n",
    "## Data Background\n",
    "\n",
    "As stated in the Business Understanding Stage report the data is provided from a kaggle competition in a dataset called the HAM10000. The dataset consists of a set of dermatoscopic images collected from various populations. The final dataset consists of 10015 images. Ground truths are provided by various confirmation techniques (follow-up examination, expert consensus or in-vivo confocal microscopy). \n",
    "\n",
    "The provided data needs further processing since it only consists of images that need to be converted to a dataset that can be classified. This will be done using NLP based Bag of Visual Words model.\n",
    "\n",
    "## Dataset Description \n",
    "\n",
    "## Summary"
   ]
  }
 ],
 "metadata": {
  "kernelspec": {
   "display_name": "Python 3",
   "language": "python",
   "name": "python3"
  },
  "language_info": {
   "codemirror_mode": {
    "name": "ipython",
    "version": 3
   },
   "file_extension": ".py",
   "mimetype": "text/x-python",
   "name": "python",
   "nbconvert_exporter": "python",
   "pygments_lexer": "ipython3",
   "version": "3.7.0"
  },
  "latex_envs": {
   "LaTeX_envs_menu_present": true,
   "autoclose": false,
   "autocomplete": true,
   "bibliofile": "biblio.bib",
   "cite_by": "apalike",
   "current_citInitial": 1,
   "eqLabelWithNumbers": true,
   "eqNumInitial": 1,
   "hotkeys": {
    "equation": "Ctrl-E",
    "itemize": "Ctrl-I"
   },
   "labels_anchors": false,
   "latex_user_defs": false,
   "report_style_numbering": false,
   "user_envs_cfg": false
  }
 },
 "nbformat": 4,
 "nbformat_minor": 2
}
