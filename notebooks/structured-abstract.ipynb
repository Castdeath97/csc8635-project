{
 "cells": [
  {
   "cell_type": "markdown",
   "metadata": {},
   "source": [
    "## Context\n",
    "\n",
    "Pigment skin diagnosis field has been growing due to the importance of early detection of skin conditions like skin cancer. The field has developed various detection methods and the use of computerised algorithms that include machine learning methods for accuracy to help with early detection.\n",
    " \n",
    "## Objective\n",
    "\n",
    "This project objective is to develop machine learning model for the diagnosis of pigmented skin lesions - classifies conditons. The models will also be evaluated using various model evaluation techniques (confusion matrices, F1 scores, etc.). The project objectives include developing and training a neural, logistic, SVM and/or random forest models with a diverse and large dataset, and using these models against test data to evaluate their discriminatory and non-discriminatory performance. Finally the project will also have to select a final model that performance best in the evaluated measures. \n",
    "\n",
    "## Method\n",
    "\n",
    "This project follows the CRISP DM approach for the data mining process, specifically dividing the process up to stages and reports. A business understanding covers the background, justification, objectives and project plan for the data mining project. And, a Data Preparation stage to cover the data cleaning and preparation process. Also, a data Understanding stage is undertaken where he data exploratory process is undertaken. Finally, a final Modelling and Evaluation stage will be carried, where the models (Logistic Regression, SVM, Random Forest) are constructed and fitted (using a 50-50 test-train split) and the modelling result and overall project will be evaluated.\n",
    "    \n",
    "## Results\n",
    "\n",
    "The results show out of the three models, the logistic regression seem to perform best in the discriminatory and non-discriminatory categories, getting better accuracies, run times and confusion matricies. However, the results were still poor when it came to the consistency of classification, and the results of the other might have been effected heavily by the difficulty of tuning the SVM and the Random Forest due to poor run times. \n",
    "\t\n",
    "## Novelty\n",
    "\n",
    "According to the literature review conducted in this project, similar projects usually covered discriminatory performance of models but glanced over non-discriminatory measures like fitting times and prediction times, which this project considered a priority. Moreover, this makes use of diverse and large dataset with more classes than similar projects which usually cover around 3-2 classes.\n"
   ]
  }
 ],
 "metadata": {
  "kernelspec": {
   "display_name": "Python 3",
   "language": "python",
   "name": "python3"
  },
  "language_info": {
   "codemirror_mode": {
    "name": "ipython",
    "version": 3
   },
   "file_extension": ".py",
   "mimetype": "text/x-python",
   "name": "python",
   "nbconvert_exporter": "python",
   "pygments_lexer": "ipython3",
   "version": "3.7.0"
  },
  "latex_envs": {
   "LaTeX_envs_menu_present": true,
   "autoclose": false,
   "autocomplete": true,
   "bibliofile": "biblio.bib",
   "cite_by": "apalike",
   "current_citInitial": 1,
   "eqLabelWithNumbers": true,
   "eqNumInitial": 1,
   "hotkeys": {
    "equation": "Ctrl-E",
    "itemize": "Ctrl-I"
   },
   "labels_anchors": false,
   "latex_user_defs": false,
   "report_style_numbering": false,
   "user_envs_cfg": false
  },
  "toc": {
   "base_numbering": 1,
   "nav_menu": {},
   "number_sections": false,
   "sideBar": true,
   "skip_h1_title": false,
   "title_cell": "Table of Contents",
   "title_sidebar": "Contents",
   "toc_cell": false,
   "toc_position": {},
   "toc_section_display": true,
   "toc_window_display": true
  }
 },
 "nbformat": 4,
 "nbformat_minor": 2
}
