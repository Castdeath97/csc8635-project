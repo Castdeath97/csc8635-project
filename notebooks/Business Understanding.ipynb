{
 "cells": [
  {
   "cell_type": "markdown",
   "metadata": {},
   "source": [
    "# Business Understanding Report \n",
    "### Ammar Hasan 150454388\n",
    "### 20 Novemeber 2018\n",
    "\n",
    "## Report Introduction \n",
    "\n",
    "This report documents the Business Understanding stage of the CRISP-DM process followed by this project. This stage documents decisions from a business/stakeholder perspective, highlighting the objectives and requirements of the data mining project to form its problem definition (the specification).\n",
    "\n",
    "## Organisation and Organisational Objectives \n",
    "\n",
    "Even though this project is not directly related to any business or an organisation, this project needs to have a beneficial impact to problems faced by stakeholders that were not tackled before. \n",
    "\n",
    "### Background \n",
    "\n",
    "This project objective is to develop machine learning model for the diagnosis of pigmented skin lesions, and to evaluate the models using various model evaluation techniques (confusion matrices, F1 scores, etc.). \n",
    "\n",
    "\n",
    "### Resources and Data\n",
    "\n",
    "The dataset provided is based on a dataset from a kaggle competition. The dataset is called the HAM10000 (\"Human Against Machine with 10000 training images\") dataset, which is a set of dermatoscopic images collected from various populations. The final dataset consists of 10015 images.\n",
    "\n",
    "The ground truths are confirmed through histopathology follow-up examination (follow_up), expert consensus (consensus), or by in-vivo confocal microscopy (confocal).\n",
    "\n",
    "### Success Critera and Objectives \n",
    "\n",
    "To obtain what criterion should the models pass a look into what stakeholders on the field expect. To do this, a look into published work in the area is necessary. \n",
    "\n",
    "## Project Specification and Plan\n",
    "\n",
    "### Requirements and Rationale \n",
    "\n",
    "### Tools\n",
    "\n",
    "### Project Plan and Risks\n"
   ]
  }
 ],
 "metadata": {
  "kernelspec": {
   "display_name": "Python 3",
   "language": "python",
   "name": "python3"
  },
  "language_info": {
   "codemirror_mode": {
    "name": "ipython",
    "version": 3
   },
   "file_extension": ".py",
   "mimetype": "text/x-python",
   "name": "python",
   "nbconvert_exporter": "python",
   "pygments_lexer": "ipython3",
   "version": "3.7.0"
  },
  "latex_envs": {
   "LaTeX_envs_menu_present": true,
   "autoclose": false,
   "autocomplete": true,
   "bibliofile": "biblio.bib",
   "cite_by": "apalike",
   "current_citInitial": 1,
   "eqLabelWithNumbers": true,
   "eqNumInitial": 1,
   "hotkeys": {
    "equation": "Ctrl-E",
    "itemize": "Ctrl-I"
   },
   "labels_anchors": false,
   "latex_user_defs": false,
   "report_style_numbering": false,
   "user_envs_cfg": false
  },
  "toc": {
   "base_numbering": 1,
   "nav_menu": {},
   "number_sections": true,
   "sideBar": true,
   "skip_h1_title": false,
   "title_cell": "Table of Contents",
   "title_sidebar": "Contents",
   "toc_cell": true,
   "toc_position": {},
   "toc_section_display": true,
   "toc_window_display": false
  }
 },
 "nbformat": 4,
 "nbformat_minor": 2
}
