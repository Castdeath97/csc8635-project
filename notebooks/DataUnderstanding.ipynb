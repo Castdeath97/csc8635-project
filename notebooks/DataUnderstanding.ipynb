{
 "cells": [
  {
   "cell_type": "markdown",
   "metadata": {
    "toc": true
   },
   "source": [
    "<h1>Table of Contents<span class=\"tocSkip\"></span></h1>\n",
    "<div class=\"toc\"><ul class=\"toc-item\"><li><span><a href=\"#Report-Introduction\" data-toc-modified-id=\"Report-Introduction-1\"><span class=\"toc-item-num\">1&nbsp;&nbsp;</span>Report Introduction</a></span></li><li><span><a href=\"#Data-Background\" data-toc-modified-id=\"Data-Background-2\"><span class=\"toc-item-num\">2&nbsp;&nbsp;</span>Data Background</a></span></li><li><span><a href=\"#Data-Description\" data-toc-modified-id=\"Data-Description-3\"><span class=\"toc-item-num\">3&nbsp;&nbsp;</span>Data Description</a></span></li><li><span><a href=\"#Data-Exploration-and-Analysis\" data-toc-modified-id=\"Data-Exploration-and-Analysis-4\"><span class=\"toc-item-num\">4&nbsp;&nbsp;</span>Data Exploration and Analysis</a></span><ul class=\"toc-item\"><li><span><a href=\"#Graphical-Summaries\" data-toc-modified-id=\"Graphical-Summaries-4.1\"><span class=\"toc-item-num\">4.1&nbsp;&nbsp;</span>Graphical Summaries</a></span><ul class=\"toc-item\"><li><span><a href=\"#Frequencies\" data-toc-modified-id=\"Frequencies-4.1.1\"><span class=\"toc-item-num\">4.1.1&nbsp;&nbsp;</span>Frequencies</a></span></li><li><span><a href=\"#Location-and-Spread\" data-toc-modified-id=\"Location-and-Spread-4.1.2\"><span class=\"toc-item-num\">4.1.2&nbsp;&nbsp;</span>Location and Spread</a></span></li></ul></li><li><span><a href=\"#Cluster-Analysis\" data-toc-modified-id=\"Cluster-Analysis-4.2\"><span class=\"toc-item-num\">4.2&nbsp;&nbsp;</span>Cluster Analysis</a></span></li></ul></li><li><span><a href=\"#Conclusions-and-Data-Quality\" data-toc-modified-id=\"Conclusions-and-Data-Quality-5\"><span class=\"toc-item-num\">5&nbsp;&nbsp;</span>Conclusions and Data Quality</a></span><ul class=\"toc-item\"><li><span><a href=\"#PCA-Analysis\" data-toc-modified-id=\"PCA-Analysis-5.1\"><span class=\"toc-item-num\">5.1&nbsp;&nbsp;</span>PCA Analysis</a></span></li></ul></li><li><span><a href=\"#Conclusions-and-Data-Quality\" data-toc-modified-id=\"Conclusions-and-Data-Quality-6\"><span class=\"toc-item-num\">6&nbsp;&nbsp;</span>Conclusions and Data Quality</a></span></li></ul></div>"
   ]
  },
  {
   "cell_type": "code",
   "execution_count": 13,
   "metadata": {},
   "outputs": [],
   "source": [
    "import pandas as pd\n",
    "import matplotlib.pyplot as plt\n",
    "\n",
    "BASE_PROCESSED_DATA_DIR = '../data/processed'\n",
    "\"\"\"\n",
    "str: Base processed data directory\n",
    "\"\"\"\n",
    "\n",
    "PROCESSED_CSV_FILE = BASE_PROCESSED_DATA_DIR + '/processed.csv'\n",
    "\"\"\"\n",
    "str: HAM1000_metadata.csv metadata file location \n",
    "\"\"\"\n",
    "        \n",
    "# Read datasets in\n",
    "    \n",
    "skin_df = pd.read_csv(PROCESSED_CSV_FILE, index_col=0)"
   ]
  },
  {
   "cell_type": "markdown",
   "metadata": {},
   "source": [
    "<h1 class=\"tocSkip\"><center class=\"tocSkip\">Data Understanding Report</center></h1>\n",
    "<h1 class=\"tocSkip\"><center class=\"tocSkip\"><i class=\"tocSkip\">Ammar Hasan 150454388</i></center></h1>\n",
    "\n",
    "## Report Introduction \n",
    "\n",
    "This report documents the Data Understanding stage of the CRISP DM cycle. The Data Understanding\n",
    "stage involves the process of collecting insights about the data, which are used to help form hypothesis for\n",
    "later analysis and to form results for deployment to stakeholder. The process involves data descriptions, explorations and quality verification. In this project\n",
    "this would involve analysing the frequencies, spread, location and patterns of GPU performance through terapixel rendering tasks.\n",
    "\n",
    "## Data Background \n",
    "\n",
    "As stated in the Business Understanding and Data Preparation Stage reports, the data is provided from a kaggle competition in a dataset called the HAM10000. The dataset consists of a set of dermatoscopic images collected from various populations. The final dataset consists of 10015 images. Ground truths are provided by various confirmation techniques (follow-up examination, expert consensus or in-vivo confocal microscopy). The csv files provided consist of files for the metadata and pixel values (RGB and Luminance of 8 X 8 and 28 X 28 sizes).\n",
    "\n",
    "\n",
    "## Data Description \n",
    "\n",
    "The full description of the data is covered in the data preparation stage, but to sum up the following fields from the final dataset are formed after preprocessing: \n",
    "\n",
    "* lesion_id (textual): Id field uniquely identifies the skin lesion.\n",
    "* image_id (textual):  Id field uniquely identifies an image of a given skin lesion. Unique for all tuples in this dataset.\n",
    "* dx (textual): The diagnosis (ground truth) as a textual code. Values:\n",
    "    - Actinic keratoses and intraepithelial carcinoma / Bowen's disease (akiec)\n",
    "    - basal cell carcinoma (bcc)\n",
    "    - benign keratosis-like lesions (solar lentigines / seborrheic keratoses and lichen-planus like keratoses, bkl)\n",
    "    - dermatofibroma (df)\n",
    "    - melanoma (mel)\n",
    "    - melanocytic nevi (nv) \n",
    "    - vascular lesions (angiomas, angiokeratomas, pyogenic granulomas and hemorrhage, vasc).-\n",
    "* dx_type (textual): The method of diagnosis, textual. Values: \n",
    "    - histopathology follow-up examination (follow_up)\n",
    "    - expert consensus (consensus)\n",
    "    - in-vivo confocal microscopy (confocal). \n",
    "* age (numeric): Natural numerical age of the individual the image is taken from \n",
    "* sex (textual): Sex of the individual the image is taken from (male, female or \n",
    "* localization (textual): Location of skin lesion in individual \n",
    "* image_path (textual): Path to raw image of skin lesion \n",
    "* pixelXXXX_l_8_8 (numeric): Luminance value of 8 by 8 pixel \n",
    "* pixelXXXX_l_28_28 (numeric): Luminance value of 28 by 28 pixel \n",
    "* pixelXXXX_rgb_8_8 (numeric): RGB value of 8 by 8 pixel \n",
    "* pixelXXXX_rgb_28_28 (numeric): RGB value of 28 by 28 pixel "
   ]
  },
  {
   "cell_type": "code",
   "execution_count": 14,
   "metadata": {},
   "outputs": [
    {
     "data": {
      "text/html": [
       "<div>\n",
       "<style scoped>\n",
       "    .dataframe tbody tr th:only-of-type {\n",
       "        vertical-align: middle;\n",
       "    }\n",
       "\n",
       "    .dataframe tbody tr th {\n",
       "        vertical-align: top;\n",
       "    }\n",
       "\n",
       "    .dataframe thead th {\n",
       "        text-align: right;\n",
       "    }\n",
       "</style>\n",
       "<table border=\"1\" class=\"dataframe\">\n",
       "  <thead>\n",
       "    <tr style=\"text-align: right;\">\n",
       "      <th></th>\n",
       "      <th>lesion_id</th>\n",
       "      <th>image_id</th>\n",
       "      <th>dx</th>\n",
       "      <th>dx_type</th>\n",
       "      <th>age</th>\n",
       "      <th>sex</th>\n",
       "      <th>localization</th>\n",
       "      <th>image_path</th>\n",
       "      <th>pixel0000_l_8_8</th>\n",
       "      <th>pixel0001_l_8_8</th>\n",
       "      <th>...</th>\n",
       "      <th>pixel2342_rgb_28_28</th>\n",
       "      <th>pixel2343_rgb_28_28</th>\n",
       "      <th>pixel2344_rgb_28_28</th>\n",
       "      <th>pixel2345_rgb_28_28</th>\n",
       "      <th>pixel2346_rgb_28_28</th>\n",
       "      <th>pixel2347_rgb_28_28</th>\n",
       "      <th>pixel2348_rgb_28_28</th>\n",
       "      <th>pixel2349_rgb_28_28</th>\n",
       "      <th>pixel2350_rgb_28_28</th>\n",
       "      <th>pixel2351_rgb_28_28</th>\n",
       "    </tr>\n",
       "  </thead>\n",
       "  <tbody>\n",
       "    <tr>\n",
       "      <th>0</th>\n",
       "      <td>HAM_0000118</td>\n",
       "      <td>ISIC_0027419</td>\n",
       "      <td>bkl</td>\n",
       "      <td>histo</td>\n",
       "      <td>80.0</td>\n",
       "      <td>male</td>\n",
       "      <td>scalp</td>\n",
       "      <td>data/raw/HAM10000_images_part_1/ISIC_0027419.jpg</td>\n",
       "      <td>172</td>\n",
       "      <td>182</td>\n",
       "      <td>...</td>\n",
       "      <td>134</td>\n",
       "      <td>173</td>\n",
       "      <td>124</td>\n",
       "      <td>138</td>\n",
       "      <td>183</td>\n",
       "      <td>147</td>\n",
       "      <td>166</td>\n",
       "      <td>185</td>\n",
       "      <td>154</td>\n",
       "      <td>177</td>\n",
       "    </tr>\n",
       "    <tr>\n",
       "      <th>1</th>\n",
       "      <td>HAM_0000118</td>\n",
       "      <td>ISIC_0025030</td>\n",
       "      <td>bkl</td>\n",
       "      <td>histo</td>\n",
       "      <td>80.0</td>\n",
       "      <td>male</td>\n",
       "      <td>scalp</td>\n",
       "      <td>data/raw/HAM10000_images_part_1/ISIC_0025030.jpg</td>\n",
       "      <td>98</td>\n",
       "      <td>149</td>\n",
       "      <td>...</td>\n",
       "      <td>82</td>\n",
       "      <td>60</td>\n",
       "      <td>39</td>\n",
       "      <td>55</td>\n",
       "      <td>25</td>\n",
       "      <td>14</td>\n",
       "      <td>28</td>\n",
       "      <td>25</td>\n",
       "      <td>14</td>\n",
       "      <td>27</td>\n",
       "    </tr>\n",
       "    <tr>\n",
       "      <th>2</th>\n",
       "      <td>HAM_0002730</td>\n",
       "      <td>ISIC_0026769</td>\n",
       "      <td>bkl</td>\n",
       "      <td>histo</td>\n",
       "      <td>80.0</td>\n",
       "      <td>male</td>\n",
       "      <td>scalp</td>\n",
       "      <td>data/raw/HAM10000_images_part_1/ISIC_0026769.jpg</td>\n",
       "      <td>165</td>\n",
       "      <td>164</td>\n",
       "      <td>...</td>\n",
       "      <td>149</td>\n",
       "      <td>167</td>\n",
       "      <td>129</td>\n",
       "      <td>143</td>\n",
       "      <td>159</td>\n",
       "      <td>124</td>\n",
       "      <td>142</td>\n",
       "      <td>136</td>\n",
       "      <td>104</td>\n",
       "      <td>117</td>\n",
       "    </tr>\n",
       "    <tr>\n",
       "      <th>3</th>\n",
       "      <td>HAM_0002730</td>\n",
       "      <td>ISIC_0025661</td>\n",
       "      <td>bkl</td>\n",
       "      <td>histo</td>\n",
       "      <td>80.0</td>\n",
       "      <td>male</td>\n",
       "      <td>scalp</td>\n",
       "      <td>data/raw/HAM10000_images_part_1/ISIC_0025661.jpg</td>\n",
       "      <td>109</td>\n",
       "      <td>159</td>\n",
       "      <td>...</td>\n",
       "      <td>73</td>\n",
       "      <td>44</td>\n",
       "      <td>26</td>\n",
       "      <td>36</td>\n",
       "      <td>25</td>\n",
       "      <td>12</td>\n",
       "      <td>17</td>\n",
       "      <td>25</td>\n",
       "      <td>12</td>\n",
       "      <td>15</td>\n",
       "    </tr>\n",
       "    <tr>\n",
       "      <th>4</th>\n",
       "      <td>HAM_0001466</td>\n",
       "      <td>ISIC_0031633</td>\n",
       "      <td>bkl</td>\n",
       "      <td>histo</td>\n",
       "      <td>75.0</td>\n",
       "      <td>male</td>\n",
       "      <td>ear</td>\n",
       "      <td>data/raw/HAM10000_images_part_2/ISIC_0031633.jpg</td>\n",
       "      <td>173</td>\n",
       "      <td>202</td>\n",
       "      <td>...</td>\n",
       "      <td>201</td>\n",
       "      <td>209</td>\n",
       "      <td>166</td>\n",
       "      <td>185</td>\n",
       "      <td>172</td>\n",
       "      <td>135</td>\n",
       "      <td>149</td>\n",
       "      <td>109</td>\n",
       "      <td>78</td>\n",
       "      <td>92</td>\n",
       "    </tr>\n",
       "  </tbody>\n",
       "</table>\n",
       "<p>5 rows × 3400 columns</p>\n",
       "</div>"
      ],
      "text/plain": [
       "     lesion_id      image_id   dx dx_type   age   sex localization  \\\n",
       "0  HAM_0000118  ISIC_0027419  bkl   histo  80.0  male        scalp   \n",
       "1  HAM_0000118  ISIC_0025030  bkl   histo  80.0  male        scalp   \n",
       "2  HAM_0002730  ISIC_0026769  bkl   histo  80.0  male        scalp   \n",
       "3  HAM_0002730  ISIC_0025661  bkl   histo  80.0  male        scalp   \n",
       "4  HAM_0001466  ISIC_0031633  bkl   histo  75.0  male          ear   \n",
       "\n",
       "                                         image_path  pixel0000_l_8_8  \\\n",
       "0  data/raw/HAM10000_images_part_1/ISIC_0027419.jpg              172   \n",
       "1  data/raw/HAM10000_images_part_1/ISIC_0025030.jpg               98   \n",
       "2  data/raw/HAM10000_images_part_1/ISIC_0026769.jpg              165   \n",
       "3  data/raw/HAM10000_images_part_1/ISIC_0025661.jpg              109   \n",
       "4  data/raw/HAM10000_images_part_2/ISIC_0031633.jpg              173   \n",
       "\n",
       "   pixel0001_l_8_8         ...           pixel2342_rgb_28_28  \\\n",
       "0              182         ...                           134   \n",
       "1              149         ...                            82   \n",
       "2              164         ...                           149   \n",
       "3              159         ...                            73   \n",
       "4              202         ...                           201   \n",
       "\n",
       "   pixel2343_rgb_28_28  pixel2344_rgb_28_28  pixel2345_rgb_28_28  \\\n",
       "0                  173                  124                  138   \n",
       "1                   60                   39                   55   \n",
       "2                  167                  129                  143   \n",
       "3                   44                   26                   36   \n",
       "4                  209                  166                  185   \n",
       "\n",
       "   pixel2346_rgb_28_28  pixel2347_rgb_28_28  pixel2348_rgb_28_28  \\\n",
       "0                  183                  147                  166   \n",
       "1                   25                   14                   28   \n",
       "2                  159                  124                  142   \n",
       "3                   25                   12                   17   \n",
       "4                  172                  135                  149   \n",
       "\n",
       "   pixel2349_rgb_28_28  pixel2350_rgb_28_28  pixel2351_rgb_28_28  \n",
       "0                  185                  154                  177  \n",
       "1                   25                   14                   27  \n",
       "2                  136                  104                  117  \n",
       "3                   25                   12                   15  \n",
       "4                  109                   78                   92  \n",
       "\n",
       "[5 rows x 3400 columns]"
      ]
     },
     "execution_count": 14,
     "metadata": {},
     "output_type": "execute_result"
    }
   ],
   "source": [
    "skin_df.head()"
   ]
  },
  {
   "cell_type": "markdown",
   "metadata": {},
   "source": [
    "\n",
    "## Data Exploration and Analysis\n",
    "\n",
    "This section concentrates on the process of exploring the data for patterns and interesting features using\n",
    "Exploratory Data Analysis and some unsupervised learning techniques (e.g. PCA Analysis).\n",
    "\n",
    "### Graphical Summaries \n",
    "\n",
    "#### Frequencies \n",
    "\n",
    "##### Sex "
   ]
  },
  {
   "cell_type": "code",
   "execution_count": 16,
   "metadata": {},
   "outputs": [
    {
     "data": {
      "image/png": "[encoded data removed]",
      "text/plain": [
       "<Figure size 1800x576 with 1 Axes>"
      ]
     },
     "metadata": {
      "needs_background": "light"
     },
     "output_type": "display_data"
    }
   ],
   "source": [
    "skin_df['sex'].value_counts().plot(kind='bar')\n",
    "plt.title('Sex')\n",
    "plt.rcParams['figure.figsize'] = [25, 8]"
   ]
  },
  {
   "cell_type": "markdown",
   "metadata": {},
   "source": [
    "As can be seen in the frequency bar plot, while not overwhelmingly higher the majority of the sample population are male. Unknown sexes account for a very small percentage of the population sex.\n",
    "\n",
    "##### Diagnosis \n"
   ]
  },
  {
   "cell_type": "code",
   "execution_count": 15,
   "metadata": {},
   "outputs": [
    {
     "data": {
      "image/png": "[encoded data removed]",
      "text/plain": [
       "<Figure size 1800x576 with 1 Axes>"
      ]
     },
     "metadata": {
      "needs_background": "light"
     },
     "output_type": "display_data"
    }
   ],
   "source": [
    "skin_df['dx'].value_counts().plot(kind='bar')\n",
    "plt.title('Sex')\n",
    "plt.rcParams['figure.figsize'] = [25, 8]"
   ]
  },
  {
   "cell_type": "markdown",
   "metadata": {},
   "source": [
    "##### Diagnosis Method"
   ]
  },
  {
   "cell_type": "code",
   "execution_count": 17,
   "metadata": {},
   "outputs": [
    {
     "data": {
      "image/png": "[encoded data removed]",
      "text/plain": [
       "<Figure size 1800x576 with 1 Axes>"
      ]
     },
     "metadata": {
      "needs_background": "light"
     },
     "output_type": "display_data"
    }
   ],
   "source": [
    "skin_df['dx_type'].value_counts().plot(kind='bar')\n",
    "plt.title('Sex')\n",
    "plt.rcParams['figure.figsize'] = [25, 8]"
   ]
  },
  {
   "cell_type": "markdown",
   "metadata": {},
   "source": [
    "##### Localization "
   ]
  },
  {
   "cell_type": "code",
   "execution_count": 18,
   "metadata": {},
   "outputs": [
    {
     "data": {
      "image/png": "[encoded data removed]",
      "text/plain": [
       "<Figure size 1800x576 with 1 Axes>"
      ]
     },
     "metadata": {
      "needs_background": "light"
     },
     "output_type": "display_data"
    }
   ],
   "source": [
    "skin_df['localization'].value_counts().plot(kind='bar')\n",
    "plt.title('Localization')\n",
    "plt.rcParams['figure.figsize'] = [25, 8]"
   ]
  },
  {
   "cell_type": "markdown",
   "metadata": {},
   "source": [
    "#### Location and Spread\n",
    "\n",
    "##### Age\n"
   ]
  },
  {
   "cell_type": "code",
   "execution_count": 24,
   "metadata": {},
   "outputs": [
    {
     "data": {
      "image/png": "[encoded data removed]",
      "text/plain": [
       "<Figure size 720x576 with 1 Axes>"
      ]
     },
     "metadata": {
      "needs_background": "light"
     },
     "output_type": "display_data"
    }
   ],
   "source": [
    "plt.boxplot(skin_df['age'])\n",
    "plt.title('Distribution of Age')\n",
    "plt.rcParams['figure.figsize'] = [10, 8]\n",
    "plt.tick_params(axis='x', which='both',\n",
    "                bottom=False, top=False, labelbottom=False) \n",
    "plt.show()"
   ]
  },
  {
   "cell_type": "markdown",
   "metadata": {},
   "source": [
    "### PCA Analysis \n",
    "\n"
   ]
  },
  {
   "cell_type": "code",
   "execution_count": null,
   "metadata": {},
   "outputs": [],
   "source": []
  },
  {
   "cell_type": "markdown",
   "metadata": {},
   "source": [
    "## Conclusions and Data Quality \n",
    "\n"
   ]
  }
 ],
 "metadata": {
  "kernelspec": {
   "display_name": "Python 3",
   "language": "python",
   "name": "python3"
  },
  "language_info": {
   "codemirror_mode": {
    "name": "ipython",
    "version": 3
   },
   "file_extension": ".py",
   "mimetype": "text/x-python",
   "name": "python",
   "nbconvert_exporter": "python",
   "pygments_lexer": "ipython3",
   "version": "3.7.0"
  },
  "latex_envs": {
   "LaTeX_envs_menu_present": true,
   "autoclose": false,
   "autocomplete": true,
   "bibliofile": "biblio.bib",
   "cite_by": "apalike",
   "current_citInitial": 1,
   "eqLabelWithNumbers": true,
   "eqNumInitial": 1,
   "hotkeys": {
    "equation": "Ctrl-E",
    "itemize": "Ctrl-I"
   },
   "labels_anchors": false,
   "latex_user_defs": false,
   "report_style_numbering": false,
   "user_envs_cfg": false
  },
  "toc": {
   "base_numbering": 1,
   "nav_menu": {},
   "number_sections": true,
   "sideBar": true,
   "skip_h1_title": true,
   "title_cell": "Table of Contents",
   "title_sidebar": "Contents",
   "toc_cell": true,
   "toc_position": {},
   "toc_section_display": true,
   "toc_window_display": true
  }
 },
 "nbformat": 4,
 "nbformat_minor": 2
}
