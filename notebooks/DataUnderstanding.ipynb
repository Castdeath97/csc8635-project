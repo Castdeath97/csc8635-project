{
 "cells": [
  {
   "cell_type": "markdown",
   "metadata": {
    "toc": true
   },
   "source": [
    "<h1>Table of Contents<span class=\"tocSkip\"></span></h1>\n",
    "<div class=\"toc\"><ul class=\"toc-item\"><li><span><a href=\"#Report-Introduction\" data-toc-modified-id=\"Report-Introduction-1\"><span class=\"toc-item-num\">1&nbsp;&nbsp;</span>Report Introduction</a></span></li><li><span><a href=\"#Data-Background\" data-toc-modified-id=\"Data-Background-2\"><span class=\"toc-item-num\">2&nbsp;&nbsp;</span>Data Background</a></span></li><li><span><a href=\"#Data-Description\" data-toc-modified-id=\"Data-Description-3\"><span class=\"toc-item-num\">3&nbsp;&nbsp;</span>Data Description</a></span></li><li><span><a href=\"#Data-Exploration-and-Analysis\" data-toc-modified-id=\"Data-Exploration-and-Analysis-4\"><span class=\"toc-item-num\">4&nbsp;&nbsp;</span>Data Exploration and Analysis</a></span><ul class=\"toc-item\"><li><span><a href=\"#Graphical-Summaries\" data-toc-modified-id=\"Graphical-Summaries-4.1\"><span class=\"toc-item-num\">4.1&nbsp;&nbsp;</span>Graphical Summaries</a></span><ul class=\"toc-item\"><li><span><a href=\"#Frequencies\" data-toc-modified-id=\"Frequencies-4.1.1\"><span class=\"toc-item-num\">4.1.1&nbsp;&nbsp;</span>Frequencies</a></span></li><li><span><a href=\"#Location-and-Spread\" data-toc-modified-id=\"Location-and-Spread-4.1.2\"><span class=\"toc-item-num\">4.1.2&nbsp;&nbsp;</span>Location and Spread</a></span></li></ul></li><li><span><a href=\"#Cluster-Analysis\" data-toc-modified-id=\"Cluster-Analysis-4.2\"><span class=\"toc-item-num\">4.2&nbsp;&nbsp;</span>Cluster Analysis</a></span></li></ul></li><li><span><a href=\"#Conclusions-and-Data-Quality\" data-toc-modified-id=\"Conclusions-and-Data-Quality-5\"><span class=\"toc-item-num\">5&nbsp;&nbsp;</span>Conclusions and Data Quality</a></span></li></ul></div>"
   ]
  },
  {
   "cell_type": "markdown",
   "metadata": {},
   "source": [
    "<h1 class=\"tocSkip\"><center class=\"tocSkip\">Data Understanding Report</center></h1>\n",
    "<h1 class=\"tocSkip\"><center class=\"tocSkip\"><i class=\"tocSkip\">Ammar Hasan 150454388</i></center></h1>\n",
    "\n",
    "## Report Introduction \n",
    "\n",
    "This report documents the Data Understanding stage of the CRISP DM cycle. The Data Understanding\n",
    "stage involves the process of collecting insights about the data, which are used to help form hypothesis for\n",
    "later analysis and to form results for deployment to stakeholder. The process involves data descriptions, explorations and quality verification. In this project\n",
    "this would involve analysing the frequencies, spread, location and patterns of GPU performance through terapixel rendering tasks.\n",
    "\n",
    "## Data Background \n",
    "\n",
    "As stated in the Business Understanding and Data Preparation Stage reports, the data is provided from a kaggle competition in a dataset called the HAM10000. The dataset consists of a set of dermatoscopic images collected from various populations. The final dataset consists of 10015 images. Ground truths are provided by various confirmation techniques (follow-up examination, expert consensus or in-vivo confocal microscopy). The csv files provided consist of files for the metadata and pixel values (RGB and Luminance of 8 X 8 and 28 X 28 sizes).\n",
    "\n",
    "\n",
    "## Data Description \n",
    "\n",
    "The full description of the data is covered in the data preparation stage, but to sum up the following fields from the final dataset are formed after preprocessing: \n",
    "\n",
    "* lesion_id (textual): Id field uniquely identifies the skin lesion.\n",
    "* image_id (textual):  Id field uniquely identifies an image of a given skin lesion. Unique for all tuples in this dataset.\n",
    "* dx (textual): The diagnosis (ground truth) as a textual code. Values:\n",
    "    - Actinic keratoses and intraepithelial carcinoma / Bowen's disease (akiec)\n",
    "    - basal cell carcinoma (bcc)\n",
    "    - benign keratosis-like lesions (solar lentigines / seborrheic keratoses and lichen-planus like keratoses, bkl)\n",
    "    - dermatofibroma (df)\n",
    "    - melanoma (mel)\n",
    "    - melanocytic nevi (nv) \n",
    "    - vascular lesions (angiomas, angiokeratomas, pyogenic granulomas and hemorrhage, vasc).-\n",
    "* dx_type (textual): The method of diagnosis, textual. Values: \n",
    "    - histopathology follow-up examination (follow_up)\n",
    "    - expert consensus (consensus)\n",
    "    - in-vivo confocal microscopy (confocal). \n",
    "* age (numeric): Natural numerical age of the individual the image is taken from \n",
    "* sex (textual): Sex of the individual the image is taken from (male, female or \n",
    "* localization (textual): Location of skin lesion in individual \n",
    "* image_path (textual): Path to raw image of skin lesion \n",
    "* pixelXXXX_l_8_8 (numeric): Luminance value of 8 by 8 pixel \n",
    "* pixelXXXX_l_28_28 (numeric): Luminance value of 28 by 28 pixel \n",
    "* pixelXXXX_rgb_8_8 (numeric): RGB value of 8 by 8 pixel \n",
    "* pixelXXXX_rgb_28_28 (numeric): RGB value of 28 by 28 pixel \n",
    "\n",
    "\n",
    "## Data Exploration and Analysis\n",
    "\n",
    "### Graphical Summaries \n",
    "\n",
    "#### Frequencies \n",
    "\n",
    "#### Location and Spread\n",
    "\n",
    "### Cluster Analysis \n",
    "\n",
    "## Conclusions and Data Quality "
   ]
  }
 ],
 "metadata": {
  "kernelspec": {
   "display_name": "Python 3",
   "language": "python",
   "name": "python3"
  },
  "language_info": {
   "codemirror_mode": {
    "name": "ipython",
    "version": 3
   },
   "file_extension": ".py",
   "mimetype": "text/x-python",
   "name": "python",
   "nbconvert_exporter": "python",
   "pygments_lexer": "ipython3",
   "version": "3.7.0"
  },
  "latex_envs": {
   "LaTeX_envs_menu_present": true,
   "autoclose": false,
   "autocomplete": true,
   "bibliofile": "biblio.bib",
   "cite_by": "apalike",
   "current_citInitial": 1,
   "eqLabelWithNumbers": true,
   "eqNumInitial": 1,
   "hotkeys": {
    "equation": "Ctrl-E",
    "itemize": "Ctrl-I"
   },
   "labels_anchors": false,
   "latex_user_defs": false,
   "report_style_numbering": false,
   "user_envs_cfg": false
  },
  "toc": {
   "base_numbering": 1,
   "nav_menu": {},
   "number_sections": true,
   "sideBar": true,
   "skip_h1_title": true,
   "title_cell": "Table of Contents",
   "title_sidebar": "Contents",
   "toc_cell": true,
   "toc_position": {},
   "toc_section_display": true,
   "toc_window_display": true
  }
 },
 "nbformat": 4,
 "nbformat_minor": 2
}
